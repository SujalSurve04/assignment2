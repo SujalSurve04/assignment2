{
 "cells": [
  {
   "cell_type": "code",
   "execution_count": 1,
   "id": "356cb9e0-ea3c-4eea-b083-35eaf2c2cd3d",
   "metadata": {},
   "outputs": [
    {
     "data": {
      "text/plain": [
       "'\\nThis is a\\nmulti-line\\ncomment using triple-quotes.\\n'"
      ]
     },
     "execution_count": 1,
     "metadata": {},
     "output_type": "execute_result"
    }
   ],
   "source": [
    "#q1\n",
    "# Q1. How do you comment code in Python? What are the different types of comments?\n",
    "# This is a single-line comment\n",
    "\n",
    "'''\n",
    "This is a\n",
    "multi-line\n",
    "comment using triple-quotes.\n",
    "'''\n"
   ]
  },
  {
   "cell_type": "code",
   "execution_count": 5,
   "id": "49eded9a-10a5-489c-8019-7aaf92e32fa9",
   "metadata": {},
   "outputs": [
    {
     "name": "stdout",
     "output_type": "stream",
     "text": [
      "2\n"
     ]
    }
   ],
   "source": [
    "#q2\n",
    "#Q2. What are variables in Python? How do you declare and assign values to variables?\n",
    "''' Variables in Python are used to store and manage data. You can declare a variable and assign a value to it using the following \n",
    "syntax: variable_name = value '''\n",
    "\n",
    "a=2\n",
    "print(a)"
   ]
  },
  {
   "cell_type": "code",
   "execution_count": 3,
   "id": "b7b2f93a-ab3b-4509-ac20-ab390db7c540",
   "metadata": {},
   "outputs": [
    {
     "name": "stdout",
     "output_type": "stream",
     "text": [
      "<class 'int'>\n",
      "<class 'float'>\n",
      "<class 'str'>\n"
     ]
    }
   ],
   "source": [
    "#q3\\\n",
    "#Q3. How do you convert one data type to another in Python?\n",
    "# Convert to integer\n",
    "x = int(3.14)\n",
    "\n",
    "# Convert to float\n",
    "y = float(\"5.67\")\n",
    "\n",
    "# Convert to string\n",
    "z = str(42)\n",
    "\n",
    "# Display the types\n",
    "print(type(x))  # Output: <class 'int'>\n",
    "print(type(y))  # Output: <class 'float'>\n",
    "print(type(z))  # Output: <class 'str'>\n",
    "\n"
   ]
  },
  {
   "cell_type": "code",
   "execution_count": null,
   "id": "1a25498d-d11b-4d2c-b88e-e88fb581b097",
   "metadata": {},
   "outputs": [],
   "source": [
    "#q4\n",
    "#Q4. How do you write and execute a Python script from the command line?\n",
    "''' python myscript.py '''\n"
   ]
  },
  {
   "cell_type": "code",
   "execution_count": 6,
   "id": "fcd623e7-461d-47d2-ae4a-93f4a4b4e945",
   "metadata": {},
   "outputs": [
    {
     "name": "stdout",
     "output_type": "stream",
     "text": [
      "[2, 3]\n"
     ]
    }
   ],
   "source": [
    "#q5\n",
    "#Q5. Given a list my_list = [1, 2, 3, 4, 5], write the code to slice the list and obtain the sub-list [2, 3].\n",
    "my_list = [1, 2, 3, 4, 5]\n",
    "sub_list = my_list[1:3]\n",
    "print(sub_list)\n"
   ]
  },
  {
   "cell_type": "code",
   "execution_count": 8,
   "id": "6a86f0a7-863b-497c-9a48-0378cb60f2b8",
   "metadata": {},
   "outputs": [
    {
     "name": "stdout",
     "output_type": "stream",
     "text": [
      "<class 'complex'>\n"
     ]
    }
   ],
   "source": [
    "#q6\n",
    "#Q6. What is a complex number in mathematics, and how is it represented in Python?\n",
    "'''A complex number in mathematics is a number of the form a + bi, where a and b are real numbers, and i is the imaginary unit.\n",
    "In Python, you can represent a complex number using the j suffix. '''\n",
    "z = 3 + 2j  # 3 + 2i\n",
    "print(type (z))"
   ]
  },
  {
   "cell_type": "code",
   "execution_count": null,
   "id": "b49256c2-3f4a-4922-862f-5dc9d75feeb2",
   "metadata": {},
   "outputs": [],
   "source": [
    "#q7\n",
    "#Q7. What is the correct way to declare a variable named age and assign the value 25 to it?\n",
    "age = 25"
   ]
  },
  {
   "cell_type": "code",
   "execution_count": 9,
   "id": "8271db7e-1fef-4919-8e0a-0ef8771b9b0d",
   "metadata": {},
   "outputs": [
    {
     "name": "stdout",
     "output_type": "stream",
     "text": [
      "<class 'float'>\n"
     ]
    }
   ],
   "source": [
    "#q8\n",
    "#Q8. Declare a variable named price and assign the value 9.99 to it. What data type does this variable belong to?\n",
    "price = 9.99\n",
    "# The variable \"price\" belongs to the float data type.\n",
    "print(type(price))"
   ]
  },
  {
   "cell_type": "code",
   "execution_count": 10,
   "id": "5a7d727e-99ba-49e1-9dc0-f9208236574a",
   "metadata": {},
   "outputs": [
    {
     "name": "stdout",
     "output_type": "stream",
     "text": [
      "Sujal Mangesh Surve\n"
     ]
    }
   ],
   "source": [
    "#q9\n",
    "#Q9. Create a variable named name and assign your full name to it as a string. How would you print the value of this variable?\n",
    "name= \"Sujal Mangesh Surve\"\n",
    "print(name)"
   ]
  },
  {
   "cell_type": "code",
   "execution_count": 11,
   "id": "792ba650-b3d5-47ce-bb4a-c13952300ef0",
   "metadata": {},
   "outputs": [
    {
     "name": "stdout",
     "output_type": "stream",
     "text": [
      "World!\n"
     ]
    }
   ],
   "source": [
    "#q10\n",
    "#Q10. Given the string \"Hello, World!\", extract the substring \"World\".\n",
    "my_string = \"Hello, World!\"\n",
    "substring = my_string[7:]\n",
    "print(substring)\n"
   ]
  },
  {
   "cell_type": "code",
   "execution_count": 13,
   "id": "25b356f6-f29b-4ed5-bfe1-eb2c513bb69b",
   "metadata": {},
   "outputs": [
    {
     "name": "stdout",
     "output_type": "stream",
     "text": [
      "True\n"
     ]
    }
   ],
   "source": [
    "#q11\n",
    "#Q11. Create a variable named \"is_student\" and assign it a boolean value indicating whether you are currently a student or not.\n",
    "is_student= True\n",
    "print(is_student)"
   ]
  }
 ],
 "metadata": {
  "kernelspec": {
   "display_name": "Python 3 (ipykernel)",
   "language": "python",
   "name": "python3"
  },
  "language_info": {
   "codemirror_mode": {
    "name": "ipython",
    "version": 3
   },
   "file_extension": ".py",
   "mimetype": "text/x-python",
   "name": "python",
   "nbconvert_exporter": "python",
   "pygments_lexer": "ipython3",
   "version": "3.10.8"
  }
 },
 "nbformat": 4,
 "nbformat_minor": 5
}
